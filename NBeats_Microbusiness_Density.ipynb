{
  "nbformat": 4,
  "nbformat_minor": 0,
  "metadata": {
    "colab": {
      "provenance": []
    },
    "kernelspec": {
      "name": "python3",
      "display_name": "Python 3"
    },
    "language_info": {
      "name": "python"
    }
  },
  "cells": [
    {
      "cell_type": "code",
      "source": [
        "from google.colab import drive\n",
        "drive.mount(\"/content/drive\", force_remount=True)"
      ],
      "metadata": {
        "colab": {
          "base_uri": "https://localhost:8080/"
        },
        "id": "QrlUj43zyvRW",
        "outputId": "ae9e9488-e6f4-492e-ff38-7c9b90f361a1"
      },
      "execution_count": 1,
      "outputs": [
        {
          "output_type": "stream",
          "name": "stdout",
          "text": [
            "Mounted at /content/drive\n"
          ]
        }
      ]
    },
    {
      "cell_type": "code",
      "source": [
        "#imports\n",
        "from sklearn.metrics import mean_squared_error, make_scorer\n",
        "import sklearn\n",
        "import pandas as pd\n",
        "import numpy as np\n",
        "import warnings\n",
        "import matplotlib.pyplot as plt\n",
        "%matplotlib inline\n",
        "%cd /content/drive/MyDrive/NBeats"
      ],
      "metadata": {
        "id": "MGOR7SXtHozH",
        "colab": {
          "base_uri": "https://localhost:8080/"
        },
        "outputId": "78bc6e3d-200f-4c28-9934-dd9a137149c6"
      },
      "execution_count": 2,
      "outputs": [
        {
          "output_type": "stream",
          "name": "stdout",
          "text": [
            "/content/drive/MyDrive/NBeats\n"
          ]
        }
      ]
    },
    {
      "cell_type": "code",
      "source": [
        "#read dataframe\n",
        "df = pd.read_csv(\"Dataset_Microbusiness_Density/train.csv\")\n",
        "df = df[['cfips','microbusiness_density','first_day_of_month']]\n",
        "\n",
        "#change column name 'microbusiness_density' to 'y'\n",
        "df = df.rename(columns={'microbusiness_density': 'y'})\n",
        "#change column name 'first_day_of_month' to 'ds'\n",
        "df = df.rename(columns={'first_day_of_month': 'ds'})\n",
        "\n",
        "#convert date to timestemp\n",
        "df['ds'] = pd.to_datetime(df['ds'])\n",
        "\n",
        "#set indices and sort by 'ds'\n",
        "df = df.set_index(['ds','cfips'])\n",
        "df = df.sort_index(level=['ds'],ascending=True)\n",
        "\n",
        "#unstack dataframe and drop extra level\n",
        "df = df.unstack(level=-1)\n",
        "df.columns = df.columns.droplevel(0)\n",
        "\n",
        "\n",
        "#collect column names\n",
        "c=[]\n",
        "for col in df.columns:\n",
        "  c.append(col)\n",
        "\n",
        "# Data start date\n",
        "start_date = '2019-08-01'\n",
        "# Data end date. yfinance excludes the end date, so we need to add one day to the last day of data\n",
        "end_date = '2022-10-01' \n",
        "# Date for splitting training and testing dataset\n",
        "train_end_date = '2021-10-01'\n",
        "\n",
        "#set y, aka select given area\n",
        "y = 1007\n",
        "\n",
        "#set X\n",
        "variables = c\n",
        "variables.remove(y)\n",
        "\n",
        "#create dataframe with columns=y, X\n",
        "v = [str(x) for x in variables]\n",
        "df = df.reset_index()\n",
        "liste=['ds','y']\n",
        "liste = liste+v\n",
        "df.columns = liste\n",
        "#v = v[:16]\n",
        "df = df[['y']+v]\n",
        "\n",
        "#print(df.head())"
      ],
      "metadata": {
        "id": "6qc8nXtd2Wke"
      },
      "execution_count": 3,
      "outputs": []
    },
    {
      "cell_type": "code",
      "source": [
        "%cd /content/drive/MyDrive/NBeats/nbeats_keras\n",
        "from model import NBeatsNet as NBeatsKeras\n",
        "warnings.filterwarnings(action='ignore', message='Setting attributes')\n",
        "\n",
        "\n",
        "def main():\n",
        "    num_samples = len(df.index)\n",
        "    input_dim = 1\n",
        "    output_steps = 1\n",
        "    time_steps = len(df.index)\n",
        "\n",
        "    # Definition of the model\n",
        "    model_keras = NBeatsKeras(backcast_length=time_steps, forecast_length=output_steps,\n",
        "                              stack_types=(NBeatsKeras.GENERIC_BLOCK, NBeatsKeras.GENERIC_BLOCK),\n",
        "                              nb_blocks_per_stack=2, thetas_dim=(4, 4), share_weights_in_stack=True,\n",
        "                              hidden_layer_units=64)\n",
        "\n",
        "    # Definition of the objective function and the optimizer.\n",
        "    model_keras.compile(loss='mae', optimizer='adam')\n",
        "\n",
        "    # Definition of the data\n",
        "    x = np.random.uniform(size=(num_samples, time_steps, input_dim))\n",
        "    y = np.mean(x, axis=1, keepdims=True)\n",
        "\n",
        "    # Split data into training and testing datasets\n",
        "    c = num_samples // 10\n",
        "    x_train, y_train, x_test, y_test = x[c:], y[c:], x[:c], y[:c]\n",
        "    test_size = len(x_test)\n",
        "\n",
        "    # Train the model\n",
        "    print('Keras training...')\n",
        "    history = model_keras.fit(x_train, y_train, validation_data=(x_test, y_test), epochs=30, batch_size=128)\n",
        "  \n",
        "    # Save the model for later\n",
        "    model_keras.save('n_beats_model.h5')\n",
        "\n",
        "    # Predict on the testing set (forecast)\n",
        "    predictions_keras_forecast = model_keras.predict(x_test)\n",
        "    np.testing.assert_equal(predictions_keras_forecast.shape, (test_size, model_keras.forecast_length, output_steps))\n",
        "\n",
        "    # Predict on the testing set (backcast).\n",
        "    predictions_keras_backcast = model_keras.predict(x_test, return_backcast=True)\n",
        "    np.testing.assert_equal(predictions_keras_backcast.shape, (test_size, model_keras.backcast_length, output_steps))\n",
        "\n",
        "    # Load the model.\n",
        "    model_keras_2 = NBeatsKeras.load('n_beats_model.h5')\n",
        "\n",
        "    np.testing.assert_almost_equal(predictions_keras_forecast, model_keras_2.predict(x_test))\n",
        "\n",
        "    # summarize history for loss\n",
        "    plt.plot(history.history['loss'])\n",
        "    plt.plot(history.history['val_loss'])\n",
        "    plt.title('model loss')\n",
        "    plt.ylabel('loss')\n",
        "    plt.xlabel('epoch')\n",
        "    plt.legend(['train', 'test'], loc='upper left')\n",
        "    plt.show()\n",
        "\n",
        "\n",
        "if __name__ == '__main__':\n",
        "    main()"
      ],
      "metadata": {
        "id": "y6H6A-zE6TW1",
        "colab": {
          "base_uri": "https://localhost:8080/",
          "height": 1000
        },
        "outputId": "79e55953-bd1c-4e9e-e565-e6693df3de5f"
      },
      "execution_count": 5,
      "outputs": [
        {
          "output_type": "stream",
          "name": "stdout",
          "text": [
            "/content/drive/MyDrive/NBeats/nbeats_keras\n",
            "Keras training...\n",
            "Epoch 1/30\n",
            "1/1 [==============================] - 5s 5s/step - loss: 0.8812 - val_loss: 0.2090\n",
            "Epoch 2/30\n",
            "1/1 [==============================] - 0s 43ms/step - loss: 0.2664 - val_loss: 0.4517\n",
            "Epoch 3/30\n",
            "1/1 [==============================] - 0s 45ms/step - loss: 0.3687 - val_loss: 0.4910\n",
            "Epoch 4/30\n",
            "1/1 [==============================] - 0s 63ms/step - loss: 0.4273 - val_loss: 0.3105\n",
            "Epoch 5/30\n",
            "1/1 [==============================] - 0s 44ms/step - loss: 0.2806 - val_loss: 0.2153\n",
            "Epoch 6/30\n",
            "1/1 [==============================] - 0s 58ms/step - loss: 0.1273 - val_loss: 0.2554\n",
            "Epoch 7/30\n",
            "1/1 [==============================] - 0s 43ms/step - loss: 0.1664 - val_loss: 0.2490\n",
            "Epoch 8/30\n",
            "1/1 [==============================] - 0s 40ms/step - loss: 0.2180 - val_loss: 0.2193\n",
            "Epoch 9/30\n",
            "1/1 [==============================] - 0s 44ms/step - loss: 0.1836 - val_loss: 0.1740\n",
            "Epoch 10/30\n",
            "1/1 [==============================] - 0s 51ms/step - loss: 0.1127 - val_loss: 0.1317\n",
            "Epoch 11/30\n",
            "1/1 [==============================] - 0s 41ms/step - loss: 0.0806 - val_loss: 0.1323\n",
            "Epoch 12/30\n",
            "1/1 [==============================] - 0s 41ms/step - loss: 0.1123 - val_loss: 0.1494\n",
            "Epoch 13/30\n",
            "1/1 [==============================] - 0s 43ms/step - loss: 0.1266 - val_loss: 0.1091\n",
            "Epoch 14/30\n",
            "1/1 [==============================] - 0s 46ms/step - loss: 0.0906 - val_loss: 0.0580\n",
            "Epoch 15/30\n",
            "1/1 [==============================] - 0s 41ms/step - loss: 0.0631 - val_loss: 0.0309\n",
            "Epoch 16/30\n",
            "1/1 [==============================] - 0s 41ms/step - loss: 0.0836 - val_loss: 0.0554\n",
            "Epoch 17/30\n",
            "1/1 [==============================] - 0s 41ms/step - loss: 0.0997 - val_loss: 0.0399\n",
            "Epoch 18/30\n",
            "1/1 [==============================] - 0s 41ms/step - loss: 0.0816 - val_loss: 0.0243\n",
            "Epoch 19/30\n",
            "1/1 [==============================] - 0s 57ms/step - loss: 0.0401 - val_loss: 0.0696\n",
            "Epoch 20/30\n",
            "1/1 [==============================] - 0s 61ms/step - loss: 0.0434 - val_loss: 0.0923\n",
            "Epoch 21/30\n",
            "1/1 [==============================] - 0s 43ms/step - loss: 0.0626 - val_loss: 0.0696\n",
            "Epoch 22/30\n",
            "1/1 [==============================] - 0s 46ms/step - loss: 0.0429 - val_loss: 0.0437\n",
            "Epoch 23/30\n",
            "1/1 [==============================] - 0s 60ms/step - loss: 0.0304 - val_loss: 0.0403\n",
            "Epoch 24/30\n",
            "1/1 [==============================] - 0s 43ms/step - loss: 0.0526 - val_loss: 0.0423\n",
            "Epoch 25/30\n",
            "1/1 [==============================] - 0s 40ms/step - loss: 0.0535 - val_loss: 0.0407\n",
            "Epoch 26/30\n",
            "1/1 [==============================] - 0s 46ms/step - loss: 0.0296 - val_loss: 0.0619\n",
            "Epoch 27/30\n",
            "1/1 [==============================] - 0s 45ms/step - loss: 0.0330 - val_loss: 0.0802\n",
            "Epoch 28/30\n",
            "1/1 [==============================] - 0s 49ms/step - loss: 0.0450 - val_loss: 0.0602\n",
            "Epoch 29/30\n",
            "1/1 [==============================] - 0s 47ms/step - loss: 0.0280 - val_loss: 0.0336\n",
            "Epoch 30/30\n",
            "1/1 [==============================] - 0s 82ms/step - loss: 0.0227 - val_loss: 0.0282\n",
            "1/1 [==============================] - 0s 247ms/step\n"
          ]
        },
        {
          "output_type": "stream",
          "name": "stderr",
          "text": [
            "WARNING:tensorflow:5 out of the last 5 calls to <function Model.make_predict_function.<locals>.predict_function at 0x7f43bbedca60> triggered tf.function retracing. Tracing is expensive and the excessive number of tracings could be due to (1) creating @tf.function repeatedly in a loop, (2) passing tensors with different shapes, (3) passing Python objects instead of tensors. For (1), please define your @tf.function outside of the loop. For (2), @tf.function has reduce_retracing=True option that can avoid unnecessary retracing. For (3), please refer to https://www.tensorflow.org/guide/function#controlling_retracing and https://www.tensorflow.org/api_docs/python/tf/function for  more details.\n"
          ]
        },
        {
          "output_type": "stream",
          "name": "stdout",
          "text": [
            "1/1 [==============================] - 0s 211ms/step\n"
          ]
        },
        {
          "output_type": "stream",
          "name": "stderr",
          "text": [
            "WARNING:tensorflow:6 out of the last 6 calls to <function Model.make_predict_function.<locals>.predict_function at 0x7f43bafc6940> triggered tf.function retracing. Tracing is expensive and the excessive number of tracings could be due to (1) creating @tf.function repeatedly in a loop, (2) passing tensors with different shapes, (3) passing Python objects instead of tensors. For (1), please define your @tf.function outside of the loop. For (2), @tf.function has reduce_retracing=True option that can avoid unnecessary retracing. For (3), please refer to https://www.tensorflow.org/guide/function#controlling_retracing and https://www.tensorflow.org/api_docs/python/tf/function for  more details.\n"
          ]
        },
        {
          "output_type": "stream",
          "name": "stdout",
          "text": [
            "1/1 [==============================] - 0s 236ms/step\n"
          ]
        },
        {
          "output_type": "display_data",
          "data": {
            "text/plain": [
              "<Figure size 432x288 with 1 Axes>"
            ],
            "image/png": "[encoded data removed]"
          },
          "metadata": {
            "needs_background": "light"
          }
        }
      ]
    }
  ]
}