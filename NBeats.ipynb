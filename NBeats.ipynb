{
  "nbformat": 4,
  "nbformat_minor": 0,
  "metadata": {
    "colab": {
      "provenance": []
    },
    "kernelspec": {
      "name": "python3",
      "display_name": "Python 3"
    },
    "language_info": {
      "name": "python"
    }
  },
  "cells": [
    {
      "cell_type": "code",
      "source": [
        "from google.colab import drive\n",
        "drive.mount(\"/content/drive\", force_remount=True)"
      ],
      "metadata": {
        "colab": {
          "base_uri": "https://localhost:8080/"
        },
        "id": "QrlUj43zyvRW",
        "outputId": "d48edfdb-5537-43b5-9d52-880bf470a18e"
      },
      "execution_count": 1,
      "outputs": [
        {
          "output_type": "stream",
          "name": "stdout",
          "text": [
            "Mounted at /content/drive\n"
          ]
        }
      ]
    },
    {
      "cell_type": "code",
      "source": [
        "#imports\n",
        "from sklearn.metrics import mean_squared_error, make_scorer\n",
        "import sklearn\n",
        "import pandas as pd\n",
        "import numpy as np\n",
        "import warnings\n",
        "import matplotlib.pyplot as plt\n",
        "from sklearn.model_selection import train_test_split\n",
        "%matplotlib inline"
      ],
      "metadata": {
        "id": "MGOR7SXtHozH"
      },
      "execution_count": 2,
      "outputs": []
    },
    {
      "cell_type": "code",
      "source": [
        "%cd /content/drive/MyDrive/MiniRocket\n",
        "\n",
        "#read dataframe\n",
        "df = pd.read_csv(\"data/godaddy-microbusiness-density-forecasting/train.csv\")\n",
        "df = df[['cfips','microbusiness_density','first_day_of_month']]\n",
        "\n",
        "#change column name 'microbusiness_density' to 'y'\n",
        "df = df.rename(columns={'microbusiness_density': 'y'})\n",
        "#change column name 'first_day_of_month' to 'ds'\n",
        "df = df.rename(columns={'first_day_of_month': 'ds'})\n",
        "\n",
        "#convert date to timestemp\n",
        "df['ds'] = pd.to_datetime(df['ds'])\n",
        "\n",
        "#set indices and sort by 'ds'\n",
        "df = df.set_index(['ds','cfips'])\n",
        "df = df.sort_index(level=['ds'],ascending=True)\n",
        "\n",
        "#unstack dataframe and drop extra level\n",
        "df = df.unstack(level=-1)\n",
        "df.columns = df.columns.droplevel(0)\n",
        "\n",
        "\n",
        "#collect column names\n",
        "c=[]\n",
        "for col in df.columns:\n",
        "  c.append(col)\n",
        "\n",
        "#set y, aka select given area\n",
        "y = 1007\n",
        "\n",
        "#set X\n",
        "variables = c\n",
        "variables.remove(y)\n",
        "\n",
        "#create dataframe with columns=y, X\n",
        "v = [str(x) for x in variables]\n",
        "df = df.reset_index()\n",
        "liste=['ds','y']\n",
        "liste = liste+v\n",
        "df.columns = liste\n",
        "#v = v[:16]\n",
        "df = df[['y']+v]\n",
        "\n",
        "#print(df.head())"
      ],
      "metadata": {
        "colab": {
          "base_uri": "https://localhost:8080/"
        },
        "id": "6qc8nXtd2Wke",
        "outputId": "e8b2afff-19d4-4560-b6dc-0cd22cedf1f6"
      },
      "execution_count": 3,
      "outputs": [
        {
          "output_type": "stream",
          "name": "stdout",
          "text": [
            "/content/drive/MyDrive/MiniRocket\n"
          ]
        }
      ]
    },
    {
      "cell_type": "code",
      "source": [
        "import math\n",
        "def smape_loss(y_true, y_pred):\n",
        "    out = 0\n",
        "    for i in range(y_true.shape[0]):\n",
        "        a = y_true[i]\n",
        "        b = y_pred[i]\n",
        "        c = a+b\n",
        "        if c == 0:\n",
        "            continue\n",
        "        out += math.fabs(a - b) / c\n",
        "    out *= (200.0 / y_true.shape[0])\n",
        "    return out"
      ],
      "metadata": {
        "id": "MDcIughDH538"
      },
      "execution_count": 5,
      "outputs": []
    },
    {
      "cell_type": "code",
      "source": [
        "%cd /content/drive/MyDrive/NFC/n-beats-master/nbeats_keras\n",
        "from model import NBeatsNet as NBeatsKeras\n",
        "warnings.filterwarnings(action='ignore', message='Setting attributes')\n",
        "\n",
        "\n",
        "def main():\n",
        "    num_samples = len(df.index)\n",
        "    input_dim = 1\n",
        "    output_steps = 1\n",
        "    time_steps = len(df.index)\n",
        "\n",
        "    # Definition of the model\n",
        "    model_keras = NBeatsKeras(backcast_length=time_steps, forecast_length=output_steps,\n",
        "                              stack_types=(NBeatsKeras.GENERIC_BLOCK, NBeatsKeras.GENERIC_BLOCK),\n",
        "                              nb_blocks_per_stack=2, thetas_dim=(4, 4), share_weights_in_stack=True,\n",
        "                              hidden_layer_units=64)\n",
        "\n",
        "    # Definition of the objective function and the optimizer.\n",
        "    model_keras.compile(loss='mae', optimizer='adam')\n",
        "\n",
        "    # Definition of the data\n",
        "    x = np.random.uniform(size=(num_samples, time_steps, input_dim))\n",
        "    y = np.mean(x, axis=1, keepdims=True)\n",
        "\n",
        "    # Split data into training and testing datasets\n",
        "    #c = num_samples // 10\n",
        "    #x_train, y_train, x_test, y_test = x[c:], y[c:], x[:c], y[:c]\n",
        "    \n",
        "    # Separate the test data\n",
        "    x, x_test, y, y_test = train_test_split(x, y, test_size=0.15, shuffle=True)\n",
        "    # Split the remaining data to train and validation\n",
        "    x_train, x_val, y_train, y_val = train_test_split(x, y, test_size=0.15, shuffle=True)\n",
        "    \n",
        "    test_size = len(x_test)\n",
        "\n",
        "    # Train the model\n",
        "    print('Keras training...')\n",
        "    history = model_keras.fit(x_train, y_train, validation_data=(x_val, y_val), epochs=30, batch_size=128)\n",
        "  \n",
        "    # Save the model for later\n",
        "    model_keras.save('n_beats_model.h5')\n",
        "\n",
        "    # Predict on the testing set (forecast)\n",
        "    predictions_keras_forecast = model_keras.predict(x_test)\n",
        "    np.testing.assert_equal(predictions_keras_forecast.shape, (test_size, model_keras.forecast_length, output_steps))\n",
        "\n",
        "    # Predict on the testing set (backcast).\n",
        "    predictions_keras_backcast = model_keras.predict(x_test, return_backcast=True)\n",
        "    np.testing.assert_equal(predictions_keras_backcast.shape, (test_size, model_keras.backcast_length, output_steps))\n",
        "\n",
        "    # Load the model.\n",
        "    model_keras_2 = NBeatsKeras.load('n_beats_model.h5')\n",
        "\n",
        "    np.testing.assert_almost_equal(predictions_keras_forecast, model_keras_2.predict(x_test))\n",
        "\n",
        "    # summarize history for loss\n",
        "    plt.plot(history.history['loss'])\n",
        "    plt.plot(history.history['val_loss'])\n",
        "    plt.title('model loss')\n",
        "    plt.ylabel('loss')\n",
        "    plt.xlabel('epoch')\n",
        "    plt.legend(['train', 'test'], loc='upper left')\n",
        "    plt.show()\n",
        "\n",
        "    import tensorflow as tf\n",
        "    y_pred = predictions_keras_forecast\n",
        "    y_true = y_test\n",
        "    mse = tf.keras.losses.MeanSquaredError(reduction=tf.keras.losses.Reduction.SUM)\n",
        "    mse = mse(y_true, y_pred).numpy()\n",
        "    mae = tf.keras.losses.MeanAbsoluteError()\n",
        "    mae = mae(y_true, y_pred).numpy()\n",
        "    smape = smape_loss(y_true, y_pred)\n",
        "    print(mse, mae, smape)\n",
        "\n",
        "    model_keras_2.evaluate(x_val,y_val)\n",
        "\n",
        "\n",
        "if __name__ == '__main__':\n",
        "    main()"
      ],
      "metadata": {
        "id": "y6H6A-zE6TW1",
        "colab": {
          "base_uri": "https://localhost:8080/",
          "height": 1000
        },
        "outputId": "9bf0ab5a-0fb0-457e-8cfc-ad919c1dfaaf"
      },
      "execution_count": 7,
      "outputs": [
        {
          "output_type": "stream",
          "name": "stdout",
          "text": [
            "/content/drive/MyDrive/NFC/n-beats-master/nbeats_keras\n",
            "Keras training...\n",
            "Epoch 1/30\n",
            "1/1 [==============================] - 6s 6s/step - loss: 0.4296 - val_loss: 0.3528\n",
            "Epoch 2/30\n",
            "1/1 [==============================] - 0s 52ms/step - loss: 0.3748 - val_loss: 0.2757\n",
            "Epoch 3/30\n",
            "1/1 [==============================] - 0s 62ms/step - loss: 0.3189 - val_loss: 0.1629\n",
            "Epoch 4/30\n",
            "1/1 [==============================] - 0s 63ms/step - loss: 0.1367 - val_loss: 0.2799\n",
            "Epoch 5/30\n",
            "1/1 [==============================] - 0s 46ms/step - loss: 0.2108 - val_loss: 0.3247\n",
            "Epoch 6/30\n",
            "1/1 [==============================] - 0s 49ms/step - loss: 0.2483 - val_loss: 0.2788\n",
            "Epoch 7/30\n",
            "1/1 [==============================] - 0s 50ms/step - loss: 0.1810 - val_loss: 0.1846\n",
            "Epoch 8/30\n",
            "1/1 [==============================] - 0s 51ms/step - loss: 0.0829 - val_loss: 0.1303\n",
            "Epoch 9/30\n",
            "1/1 [==============================] - 0s 66ms/step - loss: 0.1366 - val_loss: 0.1161\n",
            "Epoch 10/30\n",
            "1/1 [==============================] - 0s 44ms/step - loss: 0.1660 - val_loss: 0.1227\n",
            "Epoch 11/30\n",
            "1/1 [==============================] - 0s 58ms/step - loss: 0.1033 - val_loss: 0.1440\n",
            "Epoch 12/30\n",
            "1/1 [==============================] - 0s 45ms/step - loss: 0.0560 - val_loss: 0.1622\n",
            "Epoch 13/30\n",
            "1/1 [==============================] - 0s 48ms/step - loss: 0.1086 - val_loss: 0.1571\n",
            "Epoch 14/30\n",
            "1/1 [==============================] - 0s 51ms/step - loss: 0.1039 - val_loss: 0.1318\n",
            "Epoch 15/30\n",
            "1/1 [==============================] - 0s 47ms/step - loss: 0.0440 - val_loss: 0.1053\n",
            "Epoch 16/30\n",
            "1/1 [==============================] - 0s 46ms/step - loss: 0.0710 - val_loss: 0.0932\n",
            "Epoch 17/30\n",
            "1/1 [==============================] - 0s 47ms/step - loss: 0.1022 - val_loss: 0.0974\n",
            "Epoch 18/30\n",
            "1/1 [==============================] - 0s 70ms/step - loss: 0.0684 - val_loss: 0.1117\n",
            "Epoch 19/30\n",
            "1/1 [==============================] - 0s 50ms/step - loss: 0.0292 - val_loss: 0.1231\n",
            "Epoch 20/30\n",
            "1/1 [==============================] - 0s 52ms/step - loss: 0.0636 - val_loss: 0.1141\n",
            "Epoch 21/30\n",
            "1/1 [==============================] - 0s 54ms/step - loss: 0.0522 - val_loss: 0.0956\n",
            "Epoch 22/30\n",
            "1/1 [==============================] - 0s 61ms/step - loss: 0.0290 - val_loss: 0.0861\n",
            "Epoch 23/30\n",
            "1/1 [==============================] - 0s 59ms/step - loss: 0.0422 - val_loss: 0.0883\n",
            "Epoch 24/30\n",
            "1/1 [==============================] - 0s 56ms/step - loss: 0.0254 - val_loss: 0.0979\n",
            "Epoch 25/30\n",
            "1/1 [==============================] - 0s 49ms/step - loss: 0.0303 - val_loss: 0.0972\n",
            "Epoch 26/30\n",
            "1/1 [==============================] - 0s 52ms/step - loss: 0.0261 - val_loss: 0.0887\n",
            "Epoch 27/30\n",
            "1/1 [==============================] - 0s 55ms/step - loss: 0.0232 - val_loss: 0.0913\n",
            "Epoch 28/30\n",
            "1/1 [==============================] - 0s 47ms/step - loss: 0.0229 - val_loss: 0.0985\n",
            "Epoch 29/30\n",
            "1/1 [==============================] - 0s 49ms/step - loss: 0.0218 - val_loss: 0.0999\n",
            "Epoch 30/30\n",
            "1/1 [==============================] - 0s 54ms/step - loss: 0.0224 - val_loss: 0.0909\n",
            "1/1 [==============================] - 0s 225ms/step\n",
            "1/1 [==============================] - 0s 193ms/step\n",
            "1/1 [==============================] - 0s 259ms/step\n"
          ]
        },
        {
          "output_type": "display_data",
          "data": {
            "text/plain": [
              "<Figure size 432x288 with 1 Axes>"
            ],
            "image/png": "[encoded data removed]"
          },
          "metadata": {
            "needs_background": "light"
          }
        },
        {
          "output_type": "stream",
          "name": "stdout",
          "text": [
            "0.0861734 0.10423153 [[21.31041062]]\n",
            "1/1 [==============================] - 0s 284ms/step - loss: 0.0909\n"
          ]
        }
      ]
    }
  ]
}