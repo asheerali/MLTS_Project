{
 "cells": [
  {
   "cell_type": "code",
   "execution_count": null,
   "id": "927d8c8e",
   "metadata": {},
   "outputs": [],
   "source": [
    "import torch\n",
    "from torch import nn\n",
    "import matplotlib.pyplot as plt\n",
    "import pandas as pd\n",
    "from sklearn.preprocessing import MinMaxScaler\n",
    "import numpy as np\n",
    "from torch.utils.data import Dataset, DataLoader"
   ]
  },
  {
   "cell_type": "code",
   "execution_count": null,
   "id": "562920a3",
   "metadata": {},
   "outputs": [],
   "source": [
    "# use correct device\n",
    "\n",
    "device = 'cuda' if torch.cuda.is_available else 'cpu'"
   ]
  },
  {
   "cell_type": "code",
   "execution_count": null,
   "id": "88611e7c",
   "metadata": {},
   "outputs": [],
   "source": [
    "# load training data\n",
    "\n",
    "df_train = pd.read_csv('train.csv')\n",
    "df_train.head(5)"
   ]
  },
  {
   "cell_type": "code",
   "execution_count": null,
   "id": "93bb7a01",
   "metadata": {},
   "outputs": [],
   "source": [
    "# load further data\n",
    "\n",
    "df_test = pd.read_csv('test.csv')\n",
    "df_test.head()"
   ]
  },
  {
   "cell_type": "code",
   "execution_count": null,
   "id": "9968ee0b",
   "metadata": {},
   "outputs": [],
   "source": [
    "# handle date\n",
    "\n",
    "\"\"\"\n",
    "df_train['datetime'] = pd.to_datetime(df_train['first_day_of_month'])\n",
    "df_train = df_train.set_index('datetime')\n",
    "df_train.drop(['first_day_of_month'], axis=1, inplace=True)\n",
    "df_train.head(10)\n",
    "\"\"\""
   ]
  },
  {
   "cell_type": "code",
   "execution_count": null,
   "id": "f5bd97c7",
   "metadata": {},
   "outputs": [],
   "source": [
    "# add time index as column\n",
    "\n",
    "df_train[\"time_index\"] = df_train.groupby(\"cfips\").cumcount() + 1\n",
    "df_train.head()"
   ]
  },
  {
   "cell_type": "code",
   "execution_count": null,
   "id": "cc96da18",
   "metadata": {},
   "outputs": [],
   "source": [
    "# extract data used\n",
    "\n",
    "data = df_train[['time_index','cfips','microbusiness_density']]"
   ]
  },
  {
   "cell_type": "code",
   "execution_count": null,
   "id": "1ccb3e42",
   "metadata": {},
   "outputs": [],
   "source": [
    "# extract label\n",
    "\n",
    "data['y'] = data['microbusiness_density'].shift(-1)"
   ]
  },
  {
   "cell_type": "code",
   "execution_count": null,
   "id": "45207dba",
   "metadata": {},
   "outputs": [],
   "source": [
    "# remove missing values\n",
    "\n",
    "data = data.dropna()"
   ]
  },
  {
   "cell_type": "code",
   "execution_count": null,
   "id": "358f5a77",
   "metadata": {},
   "outputs": [],
   "source": [
    "# sort data\n",
    "\n",
    "data=data.sort_values(by=['cfips','time_index'], ascending=True)\n",
    "data.tail()"
   ]
  },
  {
   "cell_type": "code",
   "execution_count": null,
   "id": "fb72c99e",
   "metadata": {},
   "outputs": [],
   "source": [
    "# train-test-split\n",
    "\n",
    "train=data[data.time_index<=30]\n",
    "test=data[data.time_index>30]\n",
    "train.head()"
   ]
  },
  {
   "cell_type": "code",
   "execution_count": null,
   "id": "30fc97a2",
   "metadata": {},
   "outputs": [],
   "source": [
    "train_X = train.drop(['y', 'cfips'], axis=1)\n",
    "train_y = train['y']\n",
    "test_X = test.drop(['y', 'cfips'], axis=1)\n",
    "test_y = test['y']\n",
    "\n",
    "test_X.head()"
   ]
  },
  {
   "cell_type": "code",
   "execution_count": null,
   "id": "ee43ff04",
   "metadata": {
    "scrolled": true
   },
   "outputs": [],
   "source": [
    "# Train-Test-Split\n",
    "\n",
    "training_size = int(len(train_X) * 0.8)\n",
    "test_size = len(train_X) - training_size\n",
    "\n",
    "train_data = train_X[0:training_size].to_numpy()\n",
    "test_data = train_X[training_size:].to_numpy()"
   ]
  },
  {
   "cell_type": "code",
   "execution_count": null,
   "id": "ae67adc8",
   "metadata": {},
   "outputs": [],
   "source": [
    "class MLTSDataset(Dataset):\n",
    "    def __init__(self, data, seq_len = 1):\n",
    "        self.data = data\n",
    "        self.data = torch.from_numpy(data).float()\n",
    "        self.seq_len = seq_len\n",
    "        \n",
    "    def __len__(self):\n",
    "        return len(self.data)-self.seq_len-1\n",
    "    \n",
    "    def __getitem__(self, index):\n",
    "        return self.data[index:index+self.seq_len], self.data[index+self.seq_len]"
   ]
  },
  {
   "cell_type": "code",
   "execution_count": null,
   "id": "80836f64",
   "metadata": {},
   "outputs": [],
   "source": [
    "train_dataset = MLTSDataset(train_data)\n",
    "test_dataset = MLTSDataset(test_data)"
   ]
  },
  {
   "cell_type": "code",
   "execution_count": null,
   "id": "f312de7a",
   "metadata": {},
   "outputs": [],
   "source": [
    "# Maybe try other implementation again, seemed to work better...\n",
    "\n",
    "class BiGRU(nn.Module):\n",
    "    def __init__(self, input_dim, hidden_size, num_layers):\n",
    "        super(BiGRU, self).__init__()\n",
    "        self.num_layers = num_layers\n",
    "        self.input_dim = input_dim\n",
    "        self.hidden_size = hidden_size\n",
    "        self.gru = nn.GRU(input_size=input_dim, hidden_size = hidden_size, num_layers=num_layers, bidirectional=True)\n",
    "        self.fc = nn.linear(hidden_size*2, 1)\n",
    "        \n",
    "    def forward(self, x, hn):\n",
    "        out, hn = self.BiGRU()\n",
    "        final_out = self.fc(out[-1])\n",
    "        return final_out"
   ]
  },
  {
   "cell_type": "code",
   "execution_count": null,
   "id": "0579fece",
   "metadata": {},
   "outputs": [],
   "source": [
    "# Change those values again\n",
    "\n",
    "input_dim = len(train_data.shape)\n",
    "hidden_size = 25\n",
    "num_layers = 12\n",
    "batch_size = 64\n",
    "\n",
    "model = BiGRU(input_dim, hidden_size, num_layers).to(device)"
   ]
  },
  {
   "cell_type": "code",
   "execution_count": null,
   "id": "3e64d2f7",
   "metadata": {},
   "outputs": [],
   "source": [
    "optimizer = nn.MSELoss()\n",
    "optimizer = torch.optim.Adam(model.parameters(), lr=0.001)"
   ]
  },
  {
   "cell_type": "code",
   "execution_count": null,
   "id": "0c6e7df9",
   "metadata": {},
   "outputs": [],
   "source": [
    "def train(dataloader):\n",
    "    hn = torch.zeros(num_layers, batch_size, slef.hidden_size).to(device)\n",
    "    model.train()\n",
    "    \n",
    "    for batch, item in enumerate(dataloader):\n",
    "        x = x.to(device)\n",
    "        y = y.to(device)\n",
    "        \n",
    "        # prediction\n",
    "        out, hn = model(x.reshape[100, batch_size, 1], hn)\n",
    "        loss = optimizer(out.reshape(batch_size), y)\n",
    "        hn = hn.detach()\n",
    "        optimizer.zero_grad()\n",
    "        loss.backward()\n",
    "        optimizer.step()\n",
    "        \n",
    "        if batch == len(dataloder)-1:\n",
    "            loss = loss.item()\n",
    "            print('Train Loss:' + loss)"
   ]
  },
  {
   "cell_type": "code",
   "execution_count": null,
   "id": "a50b1bff",
   "metadata": {},
   "outputs": [],
   "source": [
    "\"\"\"\n",
    "\n",
    "\"\"\"class BiGRU(nn.Module):\n",
    "    def __init__(self, input_size, hidden_size, num_layers, output_size):\n",
    "        super(BiGRU, self).__init__()\n",
    "        \n",
    "        self.input_size = input_size\n",
    "        self.hidden_size = hidden_size\n",
    "        self.num_layers = num_layers\n",
    "        self.output_size = output_size\n",
    "        \n",
    "        # create bilinear GRU with n layers\n",
    "        self.gru = nn.GRU(input_size, hidden_size, num_layers, batch_first=True, bidirectional=True)\n",
    "        self.fc = nn.Linear(hidden_size * 2, output_size)\n",
    "\n",
    "    def forward(self, x, seq_len):\n",
    "        out, h_n = self.gru(x)\n",
    "        h_n = torch.cat((h_n[-2,:,:], h_n[-1,:,:]), dim=1)\n",
    "        h_n = h_n.repeat(seq_len, 1, 1)\n",
    "        x_pred = torch.zeros_like(x)\n",
    "        x_pred[:,:seq_len,:] = x\n",
    "        for t in range(seq_len):\n",
    "            out, h_n = self.gru(x_pred[:,t:t+1,:], h_n)\n",
    "            x_pred[:,t+1,:] = self.fc(out[:, -1, :])\n",
    "        return x_pred[:,seq_len:,:]"
   ]
  }
 ],
 "metadata": {
  "kernelspec": {
   "display_name": "Python 3 (ipykernel)",
   "language": "python",
   "name": "python3"
  },
  "language_info": {
   "codemirror_mode": {
    "name": "ipython",
    "version": 3
   },
   "file_extension": ".py",
   "mimetype": "text/x-python",
   "name": "python",
   "nbconvert_exporter": "python",
   "pygments_lexer": "ipython3",
   "version": "3.10.4"
  }
 },
 "nbformat": 4,
 "nbformat_minor": 5
}
