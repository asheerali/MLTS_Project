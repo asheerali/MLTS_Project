{
 "cells": [
  {
   "cell_type": "markdown",
   "id": "1c41ffab-559b-4ef0-b8ae-2d76649d0ae4",
   "metadata": {},
   "source": [
    "## Data Load and Preparation"
   ]
  },
  {
   "cell_type": "code",
   "execution_count": 59,
   "id": "3dd7814f-2dc3-43a8-92a1-5bc57db1abbb",
   "metadata": {},
   "outputs": [],
   "source": [
    "#Importing necessary libraries\n",
    "import torch\n",
    "import torch.nn as nn\n",
    "import torch.nn.functional as F\n",
    "import numpy as np\n",
    "from utils import *\n",
    "from network import *\n",
    "from typing import Tuple\n",
    "import torchvision.transforms as transforms\n",
    "import numpy as np\n",
    "import pandas as pd\n",
    "import seaborn as sns\n",
    "from datetime import datetime\n",
    "import matplotlib.pyplot as plt\n",
    "sns.set()\n",
    "import missingno as msno\n",
    "import tensorflow as tf\n",
    "import os\n",
    "import keras_tuner"
   ]
  },
  {
   "cell_type": "code",
   "execution_count": 61,
   "id": "55395b66-e3b0-4499-bc4a-b1056fe1185d",
   "metadata": {},
   "outputs": [],
   "source": [
    "#Changing directory\n",
    "os.chdir('/Users/melihekinci/Documents/FAU_Courses/FirstSemester/MLTS/godaddy-microbusiness-density-forecasting/')"
   ]
  },
  {
   "cell_type": "code",
   "execution_count": 62,
   "id": "e5424c6b-9cfa-4f08-929e-5983491128be",
   "metadata": {},
   "outputs": [],
   "source": [
    "#Reading data\n",
    "df_train=pd.read_csv(\"train.csv\")"
   ]
  },
  {
   "cell_type": "code",
   "execution_count": 63,
   "id": "ecde7bfe-132e-4086-8029-3f1e02169afc",
   "metadata": {},
   "outputs": [],
   "source": [
    "#Creating time index for the date variable\n",
    "df_train[\"time_index\"] = df_train.groupby(\"cfips\").cumcount() + 1"
   ]
  },
  {
   "cell_type": "code",
   "execution_count": 64,
   "id": "9a58a751-6aa6-4d4c-9597-5c444d23c439",
   "metadata": {},
   "outputs": [],
   "source": [
    "data=df_train[['time_index','cfips','microbusiness_density']]"
   ]
  },
  {
   "cell_type": "code",
   "execution_count": 65,
   "id": "e06432de-201d-431b-9d9f-9b118e707581",
   "metadata": {},
   "outputs": [
    {
     "name": "stderr",
     "output_type": "stream",
     "text": [
      "/var/folders/fx/tg4mrb6x7s737ny3gw20xr4w0000gn/T/ipykernel_4854/2023499355.py:1: SettingWithCopyWarning: \n",
      "A value is trying to be set on a copy of a slice from a DataFrame.\n",
      "Try using .loc[row_indexer,col_indexer] = value instead\n",
      "\n",
      "See the caveats in the documentation: https://pandas.pydata.org/pandas-docs/stable/user_guide/indexing.html#returning-a-view-versus-a-copy\n",
      "  data['y']=data['microbusiness_density'].shift(-1)\n"
     ]
    }
   ],
   "source": [
    "#creating target variable as 1 lag of microbusiness density\n",
    "data['y']=data['microbusiness_density'].shift(-1)"
   ]
  },
  {
   "cell_type": "code",
   "execution_count": 66,
   "id": "4f92e8e1-9e2b-4c68-aa94-e36fdee849f9",
   "metadata": {},
   "outputs": [],
   "source": [
    "#dropping null values\n",
    "data=data.dropna()"
   ]
  },
  {
   "cell_type": "code",
   "execution_count": 67,
   "id": "bafb081f-b396-44b0-b6f4-bcbc8a62f772",
   "metadata": {},
   "outputs": [],
   "source": [
    "#sorting dfata\n",
    "data=data.sort_values(by=['cfips','time_index'], ascending=True)"
   ]
  },
  {
   "cell_type": "code",
   "execution_count": 68,
   "id": "648255e4-4775-443c-9967-fd39e6cbe5bf",
   "metadata": {
    "tags": []
   },
   "outputs": [
    {
     "data": {
      "text/html": [
       "<div>\n",
       "<style scoped>\n",
       "    .dataframe tbody tr th:only-of-type {\n",
       "        vertical-align: middle;\n",
       "    }\n",
       "\n",
       "    .dataframe tbody tr th {\n",
       "        vertical-align: top;\n",
       "    }\n",
       "\n",
       "    .dataframe thead th {\n",
       "        text-align: right;\n",
       "    }\n",
       "</style>\n",
       "<table border=\"1\" class=\"dataframe\">\n",
       "  <thead>\n",
       "    <tr style=\"text-align: right;\">\n",
       "      <th></th>\n",
       "      <th>time_index</th>\n",
       "      <th>cfips</th>\n",
       "      <th>microbusiness_density</th>\n",
       "      <th>y</th>\n",
       "    </tr>\n",
       "  </thead>\n",
       "  <tbody>\n",
       "    <tr>\n",
       "      <th>122259</th>\n",
       "      <td>34</td>\n",
       "      <td>56045</td>\n",
       "      <td>1.803249</td>\n",
       "      <td>1.803249</td>\n",
       "    </tr>\n",
       "    <tr>\n",
       "      <th>122260</th>\n",
       "      <td>35</td>\n",
       "      <td>56045</td>\n",
       "      <td>1.803249</td>\n",
       "      <td>1.803249</td>\n",
       "    </tr>\n",
       "    <tr>\n",
       "      <th>122261</th>\n",
       "      <td>36</td>\n",
       "      <td>56045</td>\n",
       "      <td>1.803249</td>\n",
       "      <td>1.785395</td>\n",
       "    </tr>\n",
       "    <tr>\n",
       "      <th>122262</th>\n",
       "      <td>37</td>\n",
       "      <td>56045</td>\n",
       "      <td>1.785395</td>\n",
       "      <td>1.785395</td>\n",
       "    </tr>\n",
       "    <tr>\n",
       "      <th>122263</th>\n",
       "      <td>38</td>\n",
       "      <td>56045</td>\n",
       "      <td>1.785395</td>\n",
       "      <td>1.785395</td>\n",
       "    </tr>\n",
       "  </tbody>\n",
       "</table>\n",
       "</div>"
      ],
      "text/plain": [
       "        time_index  cfips  microbusiness_density         y\n",
       "122259          34  56045               1.803249  1.803249\n",
       "122260          35  56045               1.803249  1.803249\n",
       "122261          36  56045               1.803249  1.785395\n",
       "122262          37  56045               1.785395  1.785395\n",
       "122263          38  56045               1.785395  1.785395"
      ]
     },
     "execution_count": 68,
     "metadata": {},
     "output_type": "execute_result"
    }
   ],
   "source": [
    "data.tail()"
   ]
  },
  {
   "cell_type": "code",
   "execution_count": 71,
   "id": "2e186501-da9e-470a-ab6c-4603ed9f78b9",
   "metadata": {},
   "outputs": [
    {
     "name": "stdout",
     "output_type": "stream",
     "text": [
      "<class 'pandas.core.frame.DataFrame'>\n",
      "Int64Index: 122264 entries, 0 to 122263\n",
      "Data columns (total 4 columns):\n",
      " #   Column                 Non-Null Count   Dtype  \n",
      "---  ------                 --------------   -----  \n",
      " 0   time_index             122264 non-null  int64  \n",
      " 1   cfips                  122264 non-null  int64  \n",
      " 2   microbusiness_density  122264 non-null  float64\n",
      " 3   y                      122264 non-null  float64\n",
      "dtypes: float64(2), int64(2)\n",
      "memory usage: 4.7 MB\n"
     ]
    }
   ],
   "source": [
    "data.info()"
   ]
  },
  {
   "cell_type": "code",
   "execution_count": 72,
   "id": "56f83457-3375-4061-bcc1-f929f2860977",
   "metadata": {},
   "outputs": [],
   "source": [
    "#train test split: 30\n",
    "train=data[data.time_index<=30]\n",
    "test=data[data.time_index>30]"
   ]
  },
  {
   "cell_type": "code",
   "execution_count": 73,
   "id": "a3752fcd-84e1-493b-a547-1a2f9a512327",
   "metadata": {},
   "outputs": [],
   "source": [
    "#getting x and y\n",
    "train_X = train.drop(['y','cfips'], axis=1)\n",
    "train_y = train['y']\n",
    "test_X=test.drop(['y','cfips'], axis=1)\n",
    "test_y=test['y']"
   ]
  },
  {
   "cell_type": "code",
   "execution_count": 74,
   "id": "0e72655d-6b0e-422b-a8e2-da89c853c033",
   "metadata": {},
   "outputs": [],
   "source": [
    "#turning dataframes into numpy arrays\n",
    "train_X = train_X.to_numpy().reshape((train_X.shape[0], train_X.shape[1], 1))\n",
    "test_X = test_X.to_numpy().reshape((test_X.shape[0], test_X.shape[1], 1))"
   ]
  },
  {
   "cell_type": "code",
   "execution_count": 75,
   "id": "db368abb-d06c-4a06-a770-7785750d5a2e",
   "metadata": {},
   "outputs": [
    {
     "data": {
      "text/plain": [
       "(94050, 2, 1)"
      ]
     },
     "execution_count": 75,
     "metadata": {},
     "output_type": "execute_result"
    }
   ],
   "source": [
    "train_X.shape"
   ]
  },
  {
   "cell_type": "markdown",
   "id": "d81e17f1-ae2d-4172-9f6c-04b2a3170f39",
   "metadata": {},
   "source": [
    "## Model Building"
   ]
  },
  {
   "cell_type": "code",
   "execution_count": 76,
   "id": "938330ea-d088-4f25-b86b-3b49471c5364",
   "metadata": {},
   "outputs": [],
   "source": [
    "from tensorflow import keras\n",
    "from tensorflow.keras import layers"
   ]
  },
  {
   "cell_type": "code",
   "execution_count": 77,
   "id": "da98d18f-943a-40f0-8af2-dfd88f40a35a",
   "metadata": {},
   "outputs": [],
   "source": [
    "def transformer_encoder(inputs, head_size, num_heads, ff_dim, dropout=0):\n",
    "    # Normalization and Attention\n",
    "    x = layers.LayerNormalization(epsilon=1e-6)(inputs)\n",
    "    x = layers.MultiHeadAttention(\n",
    "        key_dim=head_size, num_heads=num_heads, dropout=dropout\n",
    "    )(x, x)\n",
    "    x = layers.Dropout(dropout)(x)\n",
    "    res = x + inputs\n",
    "\n",
    "    # Feed Forward Part\n",
    "    x = layers.LayerNormalization(epsilon=1e-6)(res)\n",
    "    x = layers.Conv1D(filters=ff_dim, kernel_size=1, activation=\"relu\")(x)\n",
    "    x = layers.Dropout(dropout)(x)\n",
    "    x = layers.Conv1D(filters=inputs.shape[-1], kernel_size=1)(x)\n",
    "    return x + res"
   ]
  },
  {
   "cell_type": "code",
   "execution_count": 82,
   "id": "2a8ae6f7-796e-44fc-a628-780e41068377",
   "metadata": {},
   "outputs": [],
   "source": [
    "def build_model(\n",
    "    input_shape,\n",
    "    head_size,\n",
    "    num_heads,\n",
    "    ff_dim,\n",
    "    num_transformer_blocks,\n",
    "    mlp_units,\n",
    "    dropout=0,\n",
    "    mlp_dropout=0,\n",
    "):\n",
    "    inputs = keras.Input(shape=input_shape)\n",
    "    x = inputs\n",
    "    for _ in range(num_transformer_blocks):\n",
    "        x = transformer_encoder(x, head_size, num_heads, ff_dim, dropout)\n",
    "\n",
    "    x = layers.GlobalAveragePooling1D(data_format=\"channels_first\")(x)\n",
    "    for dim in mlp_units:\n",
    "        x = layers.Dense(dim, activation=\"relu\")(x)\n",
    "        x = layers.Dropout(mlp_dropout)(x)\n",
    "    outputs = layers.Dense(1)(x)\n",
    "    return keras.Model(inputs, outputs)"
   ]
  },
  {
   "cell_type": "code",
   "execution_count": 83,
   "id": "b970b40a-a677-4203-8487-173c30053b5a",
   "metadata": {},
   "outputs": [],
   "source": [
    "input_shape = train_X.shape[1:]\n",
    "model = build_model(\n",
    "    input_shape,\n",
    "    head_size=512,\n",
    "    num_heads=8,\n",
    "    ff_dim=4,\n",
    "    num_transformer_blocks=8,\n",
    "    mlp_units=[64],\n",
    "    mlp_dropout=0.1,\n",
    "    dropout=0.25,\n",
    ")"
   ]
  },
  {
   "cell_type": "code",
   "execution_count": 91,
   "id": "724a96f2-b09c-41d3-8756-c559d364502c",
   "metadata": {},
   "outputs": [
    {
     "name": "stdout",
     "output_type": "stream",
     "text": [
      "Model: \"model_8\"\n",
      "__________________________________________________________________________________________________\n",
      " Layer (type)                   Output Shape         Param #     Connected to                     \n",
      "==================================================================================================\n",
      " input_10 (InputLayer)          [(None, 2, 1)]       0           []                               \n",
      "                                                                                                  \n",
      " layer_normalization_60 (LayerN  (None, 2, 1)        2           ['input_10[0][0]']               \n",
      " ormalization)                                                                                    \n",
      "                                                                                                  \n",
      " multi_head_attention_30 (Multi  (None, 2, 1)        28673       ['layer_normalization_60[0][0]', \n",
      " HeadAttention)                                                   'layer_normalization_60[0][0]'] \n",
      "                                                                                                  \n",
      " dropout_68 (Dropout)           (None, 2, 1)         0           ['multi_head_attention_30[0][0]']\n",
      "                                                                                                  \n",
      " tf.__operators__.add_60 (TFOpL  (None, 2, 1)        0           ['dropout_68[0][0]',             \n",
      " ambda)                                                           'input_10[0][0]']               \n",
      "                                                                                                  \n",
      " layer_normalization_61 (LayerN  (None, 2, 1)        2           ['tf.__operators__.add_60[0][0]']\n",
      " ormalization)                                                                                    \n",
      "                                                                                                  \n",
      " conv1d_60 (Conv1D)             (None, 2, 4)         8           ['layer_normalization_61[0][0]'] \n",
      "                                                                                                  \n",
      " dropout_69 (Dropout)           (None, 2, 4)         0           ['conv1d_60[0][0]']              \n",
      "                                                                                                  \n",
      " conv1d_61 (Conv1D)             (None, 2, 1)         5           ['dropout_69[0][0]']             \n",
      "                                                                                                  \n",
      " tf.__operators__.add_61 (TFOpL  (None, 2, 1)        0           ['conv1d_61[0][0]',              \n",
      " ambda)                                                           'tf.__operators__.add_60[0][0]']\n",
      "                                                                                                  \n",
      " layer_normalization_62 (LayerN  (None, 2, 1)        2           ['tf.__operators__.add_61[0][0]']\n",
      " ormalization)                                                                                    \n",
      "                                                                                                  \n",
      " multi_head_attention_31 (Multi  (None, 2, 1)        28673       ['layer_normalization_62[0][0]', \n",
      " HeadAttention)                                                   'layer_normalization_62[0][0]'] \n",
      "                                                                                                  \n",
      " dropout_70 (Dropout)           (None, 2, 1)         0           ['multi_head_attention_31[0][0]']\n",
      "                                                                                                  \n",
      " tf.__operators__.add_62 (TFOpL  (None, 2, 1)        0           ['dropout_70[0][0]',             \n",
      " ambda)                                                           'tf.__operators__.add_61[0][0]']\n",
      "                                                                                                  \n",
      " layer_normalization_63 (LayerN  (None, 2, 1)        2           ['tf.__operators__.add_62[0][0]']\n",
      " ormalization)                                                                                    \n",
      "                                                                                                  \n",
      " conv1d_62 (Conv1D)             (None, 2, 4)         8           ['layer_normalization_63[0][0]'] \n",
      "                                                                                                  \n",
      " dropout_71 (Dropout)           (None, 2, 4)         0           ['conv1d_62[0][0]']              \n",
      "                                                                                                  \n",
      " conv1d_63 (Conv1D)             (None, 2, 1)         5           ['dropout_71[0][0]']             \n",
      "                                                                                                  \n",
      " tf.__operators__.add_63 (TFOpL  (None, 2, 1)        0           ['conv1d_63[0][0]',              \n",
      " ambda)                                                           'tf.__operators__.add_62[0][0]']\n",
      "                                                                                                  \n",
      " layer_normalization_64 (LayerN  (None, 2, 1)        2           ['tf.__operators__.add_63[0][0]']\n",
      " ormalization)                                                                                    \n",
      "                                                                                                  \n",
      " multi_head_attention_32 (Multi  (None, 2, 1)        28673       ['layer_normalization_64[0][0]', \n",
      " HeadAttention)                                                   'layer_normalization_64[0][0]'] \n",
      "                                                                                                  \n",
      " dropout_72 (Dropout)           (None, 2, 1)         0           ['multi_head_attention_32[0][0]']\n",
      "                                                                                                  \n",
      " tf.__operators__.add_64 (TFOpL  (None, 2, 1)        0           ['dropout_72[0][0]',             \n",
      " ambda)                                                           'tf.__operators__.add_63[0][0]']\n",
      "                                                                                                  \n",
      " layer_normalization_65 (LayerN  (None, 2, 1)        2           ['tf.__operators__.add_64[0][0]']\n",
      " ormalization)                                                                                    \n",
      "                                                                                                  \n",
      " conv1d_64 (Conv1D)             (None, 2, 4)         8           ['layer_normalization_65[0][0]'] \n",
      "                                                                                                  \n",
      " dropout_73 (Dropout)           (None, 2, 4)         0           ['conv1d_64[0][0]']              \n",
      "                                                                                                  \n",
      " conv1d_65 (Conv1D)             (None, 2, 1)         5           ['dropout_73[0][0]']             \n",
      "                                                                                                  \n",
      " tf.__operators__.add_65 (TFOpL  (None, 2, 1)        0           ['conv1d_65[0][0]',              \n",
      " ambda)                                                           'tf.__operators__.add_64[0][0]']\n",
      "                                                                                                  \n",
      " layer_normalization_66 (LayerN  (None, 2, 1)        2           ['tf.__operators__.add_65[0][0]']\n",
      " ormalization)                                                                                    \n",
      "                                                                                                  \n",
      " multi_head_attention_33 (Multi  (None, 2, 1)        28673       ['layer_normalization_66[0][0]', \n",
      " HeadAttention)                                                   'layer_normalization_66[0][0]'] \n",
      "                                                                                                  \n",
      " dropout_74 (Dropout)           (None, 2, 1)         0           ['multi_head_attention_33[0][0]']\n",
      "                                                                                                  \n",
      " tf.__operators__.add_66 (TFOpL  (None, 2, 1)        0           ['dropout_74[0][0]',             \n",
      " ambda)                                                           'tf.__operators__.add_65[0][0]']\n",
      "                                                                                                  \n",
      " layer_normalization_67 (LayerN  (None, 2, 1)        2           ['tf.__operators__.add_66[0][0]']\n",
      " ormalization)                                                                                    \n",
      "                                                                                                  \n",
      " conv1d_66 (Conv1D)             (None, 2, 4)         8           ['layer_normalization_67[0][0]'] \n",
      "                                                                                                  \n",
      " dropout_75 (Dropout)           (None, 2, 4)         0           ['conv1d_66[0][0]']              \n",
      "                                                                                                  \n",
      " conv1d_67 (Conv1D)             (None, 2, 1)         5           ['dropout_75[0][0]']             \n",
      "                                                                                                  \n",
      " tf.__operators__.add_67 (TFOpL  (None, 2, 1)        0           ['conv1d_67[0][0]',              \n",
      " ambda)                                                           'tf.__operators__.add_66[0][0]']\n",
      "                                                                                                  \n",
      " layer_normalization_68 (LayerN  (None, 2, 1)        2           ['tf.__operators__.add_67[0][0]']\n",
      " ormalization)                                                                                    \n",
      "                                                                                                  \n",
      " multi_head_attention_34 (Multi  (None, 2, 1)        28673       ['layer_normalization_68[0][0]', \n",
      " HeadAttention)                                                   'layer_normalization_68[0][0]'] \n",
      "                                                                                                  \n",
      " dropout_76 (Dropout)           (None, 2, 1)         0           ['multi_head_attention_34[0][0]']\n",
      "                                                                                                  \n",
      " tf.__operators__.add_68 (TFOpL  (None, 2, 1)        0           ['dropout_76[0][0]',             \n",
      " ambda)                                                           'tf.__operators__.add_67[0][0]']\n",
      "                                                                                                  \n",
      " layer_normalization_69 (LayerN  (None, 2, 1)        2           ['tf.__operators__.add_68[0][0]']\n",
      " ormalization)                                                                                    \n",
      "                                                                                                  \n",
      " conv1d_68 (Conv1D)             (None, 2, 4)         8           ['layer_normalization_69[0][0]'] \n",
      "                                                                                                  \n",
      " dropout_77 (Dropout)           (None, 2, 4)         0           ['conv1d_68[0][0]']              \n",
      "                                                                                                  \n",
      " conv1d_69 (Conv1D)             (None, 2, 1)         5           ['dropout_77[0][0]']             \n",
      "                                                                                                  \n",
      " tf.__operators__.add_69 (TFOpL  (None, 2, 1)        0           ['conv1d_69[0][0]',              \n",
      " ambda)                                                           'tf.__operators__.add_68[0][0]']\n",
      "                                                                                                  \n",
      " layer_normalization_70 (LayerN  (None, 2, 1)        2           ['tf.__operators__.add_69[0][0]']\n",
      " ormalization)                                                                                    \n",
      "                                                                                                  \n",
      " multi_head_attention_35 (Multi  (None, 2, 1)        28673       ['layer_normalization_70[0][0]', \n",
      " HeadAttention)                                                   'layer_normalization_70[0][0]'] \n",
      "                                                                                                  \n",
      " dropout_78 (Dropout)           (None, 2, 1)         0           ['multi_head_attention_35[0][0]']\n",
      "                                                                                                  \n",
      " tf.__operators__.add_70 (TFOpL  (None, 2, 1)        0           ['dropout_78[0][0]',             \n",
      " ambda)                                                           'tf.__operators__.add_69[0][0]']\n",
      "                                                                                                  \n",
      " layer_normalization_71 (LayerN  (None, 2, 1)        2           ['tf.__operators__.add_70[0][0]']\n",
      " ormalization)                                                                                    \n",
      "                                                                                                  \n",
      " conv1d_70 (Conv1D)             (None, 2, 4)         8           ['layer_normalization_71[0][0]'] \n",
      "                                                                                                  \n",
      " dropout_79 (Dropout)           (None, 2, 4)         0           ['conv1d_70[0][0]']              \n",
      "                                                                                                  \n",
      " conv1d_71 (Conv1D)             (None, 2, 1)         5           ['dropout_79[0][0]']             \n",
      "                                                                                                  \n",
      " tf.__operators__.add_71 (TFOpL  (None, 2, 1)        0           ['conv1d_71[0][0]',              \n",
      " ambda)                                                           'tf.__operators__.add_70[0][0]']\n",
      "                                                                                                  \n",
      " layer_normalization_72 (LayerN  (None, 2, 1)        2           ['tf.__operators__.add_71[0][0]']\n",
      " ormalization)                                                                                    \n",
      "                                                                                                  \n",
      " multi_head_attention_36 (Multi  (None, 2, 1)        28673       ['layer_normalization_72[0][0]', \n",
      " HeadAttention)                                                   'layer_normalization_72[0][0]'] \n",
      "                                                                                                  \n",
      " dropout_80 (Dropout)           (None, 2, 1)         0           ['multi_head_attention_36[0][0]']\n",
      "                                                                                                  \n",
      " tf.__operators__.add_72 (TFOpL  (None, 2, 1)        0           ['dropout_80[0][0]',             \n",
      " ambda)                                                           'tf.__operators__.add_71[0][0]']\n",
      "                                                                                                  \n",
      " layer_normalization_73 (LayerN  (None, 2, 1)        2           ['tf.__operators__.add_72[0][0]']\n",
      " ormalization)                                                                                    \n",
      "                                                                                                  \n",
      " conv1d_72 (Conv1D)             (None, 2, 4)         8           ['layer_normalization_73[0][0]'] \n",
      "                                                                                                  \n",
      " dropout_81 (Dropout)           (None, 2, 4)         0           ['conv1d_72[0][0]']              \n",
      "                                                                                                  \n",
      " conv1d_73 (Conv1D)             (None, 2, 1)         5           ['dropout_81[0][0]']             \n",
      "                                                                                                  \n",
      " tf.__operators__.add_73 (TFOpL  (None, 2, 1)        0           ['conv1d_73[0][0]',              \n",
      " ambda)                                                           'tf.__operators__.add_72[0][0]']\n",
      "                                                                                                  \n",
      " layer_normalization_74 (LayerN  (None, 2, 1)        2           ['tf.__operators__.add_73[0][0]']\n",
      " ormalization)                                                                                    \n",
      "                                                                                                  \n",
      " multi_head_attention_37 (Multi  (None, 2, 1)        28673       ['layer_normalization_74[0][0]', \n",
      " HeadAttention)                                                   'layer_normalization_74[0][0]'] \n",
      "                                                                                                  \n",
      " dropout_82 (Dropout)           (None, 2, 1)         0           ['multi_head_attention_37[0][0]']\n",
      "                                                                                                  \n",
      " tf.__operators__.add_74 (TFOpL  (None, 2, 1)        0           ['dropout_82[0][0]',             \n",
      " ambda)                                                           'tf.__operators__.add_73[0][0]']\n",
      "                                                                                                  \n",
      " layer_normalization_75 (LayerN  (None, 2, 1)        2           ['tf.__operators__.add_74[0][0]']\n",
      " ormalization)                                                                                    \n",
      "                                                                                                  \n",
      " conv1d_74 (Conv1D)             (None, 2, 4)         8           ['layer_normalization_75[0][0]'] \n",
      "                                                                                                  \n",
      " dropout_83 (Dropout)           (None, 2, 4)         0           ['conv1d_74[0][0]']              \n",
      "                                                                                                  \n",
      " conv1d_75 (Conv1D)             (None, 2, 1)         5           ['dropout_83[0][0]']             \n",
      "                                                                                                  \n",
      " tf.__operators__.add_75 (TFOpL  (None, 2, 1)        0           ['conv1d_75[0][0]',              \n",
      " ambda)                                                           'tf.__operators__.add_74[0][0]']\n",
      "                                                                                                  \n",
      " global_average_pooling1d_9 (Gl  (None, 2)           0           ['tf.__operators__.add_75[0][0]']\n",
      " obalAveragePooling1D)                                                                            \n",
      "                                                                                                  \n",
      " dense_16 (Dense)               (None, 64)           192         ['global_average_pooling1d_9[0][0\n",
      "                                                                 ]']                              \n",
      "                                                                                                  \n",
      " dropout_84 (Dropout)           (None, 64)           0           ['dense_16[0][0]']               \n",
      "                                                                                                  \n",
      " dense_17 (Dense)               (None, 1)            65          ['dropout_84[0][0]']             \n",
      "                                                                                                  \n",
      "==================================================================================================\n",
      "Total params: 229,777\n",
      "Trainable params: 229,777\n",
      "Non-trainable params: 0\n",
      "__________________________________________________________________________________________________\n"
     ]
    }
   ],
   "source": [
    "from keras import metrics\n",
    "import tensorflow.keras.backend as K\n",
    "\n",
    "#defining SMAPE loss metric\n",
    "def smape_loss(y_true, y_pred):\n",
    "    epsilon = 0.1\n",
    "    summ = K.maximum(K.abs(y_true) + K.abs(y_pred) + epsilon, 0.5 + epsilon)\n",
    "    smape = K.abs(y_pred - y_true) / summ * 2.0\n",
    "    return smape\n",
    "\n",
    "#compiling the model\n",
    "model.compile(\n",
    "    loss=\"mean_squared_error\",\n",
    "    optimizer=keras.optimizers.Adam(learning_rate=1e-3),\n",
    "    metrics=[\"mean_squared_error\",metrics.mean_absolute_error, smape_loss],\n",
    ")\n",
    "model.summary()\n",
    "\n",
    "callbacks = [keras.callbacks.EarlyStopping(patience=10, restore_best_weights=True)]"
   ]
  },
  {
   "cell_type": "code",
   "execution_count": 92,
   "id": "0e04f93c-8398-40f6-a853-29dc7969104f",
   "metadata": {},
   "outputs": [
    {
     "name": "stdout",
     "output_type": "stream",
     "text": [
      "Epoch 1/50\n",
      "76/76 [==============================] - 54s 663ms/step - loss: 3.0007 - mean_squared_error: 3.0007 - mean_absolute_error: 0.2935 - smape_loss: 0.0850 - val_loss: 0.2482 - val_mean_squared_error: 0.2482 - val_mean_absolute_error: 0.1085 - val_smape_loss: 0.0315\n",
      "Epoch 2/50\n",
      "76/76 [==============================] - 50s 655ms/step - loss: 3.0814 - mean_squared_error: 3.0814 - mean_absolute_error: 0.2976 - smape_loss: 0.0882 - val_loss: 0.2306 - val_mean_squared_error: 0.2306 - val_mean_absolute_error: 0.1080 - val_smape_loss: 0.0348\n",
      "Epoch 3/50\n",
      "76/76 [==============================] - 50s 659ms/step - loss: 2.6304 - mean_squared_error: 2.6304 - mean_absolute_error: 0.2775 - smape_loss: 0.0806 - val_loss: 0.2810 - val_mean_squared_error: 0.2810 - val_mean_absolute_error: 0.2058 - val_smape_loss: 0.0806\n",
      "Epoch 4/50\n",
      "76/76 [==============================] - 51s 670ms/step - loss: 2.8385 - mean_squared_error: 2.8385 - mean_absolute_error: 0.2848 - smape_loss: 0.0848 - val_loss: 0.2711 - val_mean_squared_error: 0.2711 - val_mean_absolute_error: 0.1250 - val_smape_loss: 0.0383\n",
      "Epoch 5/50\n",
      "76/76 [==============================] - 51s 667ms/step - loss: 2.9028 - mean_squared_error: 2.9028 - mean_absolute_error: 0.2737 - smape_loss: 0.0784 - val_loss: 0.2473 - val_mean_squared_error: 0.2473 - val_mean_absolute_error: 0.1081 - val_smape_loss: 0.0306\n",
      "Epoch 6/50\n",
      "76/76 [==============================] - 52s 679ms/step - loss: 2.7818 - mean_squared_error: 2.7818 - mean_absolute_error: 0.2678 - smape_loss: 0.0763 - val_loss: 0.2812 - val_mean_squared_error: 0.2812 - val_mean_absolute_error: 0.1481 - val_smape_loss: 0.0454\n",
      "Epoch 7/50\n",
      "76/76 [==============================] - 51s 675ms/step - loss: 2.4597 - mean_squared_error: 2.4597 - mean_absolute_error: 0.2696 - smape_loss: 0.0784 - val_loss: 0.2242 - val_mean_squared_error: 0.2242 - val_mean_absolute_error: 0.1042 - val_smape_loss: 0.0318\n",
      "Epoch 8/50\n",
      "76/76 [==============================] - 51s 667ms/step - loss: 2.8977 - mean_squared_error: 2.8977 - mean_absolute_error: 0.2616 - smape_loss: 0.0733 - val_loss: 0.2938 - val_mean_squared_error: 0.2938 - val_mean_absolute_error: 0.2417 - val_smape_loss: 0.0738\n",
      "Epoch 9/50\n",
      "76/76 [==============================] - 50s 658ms/step - loss: 2.7236 - mean_squared_error: 2.7236 - mean_absolute_error: 0.3094 - smape_loss: 0.0958 - val_loss: 0.2448 - val_mean_squared_error: 0.2448 - val_mean_absolute_error: 0.1260 - val_smape_loss: 0.0408\n",
      "Epoch 10/50\n",
      "76/76 [==============================] - 50s 659ms/step - loss: 2.6127 - mean_squared_error: 2.6127 - mean_absolute_error: 0.2815 - smape_loss: 0.0834 - val_loss: 0.2485 - val_mean_squared_error: 0.2485 - val_mean_absolute_error: 0.1183 - val_smape_loss: 0.0356\n",
      "Epoch 11/50\n",
      "76/76 [==============================] - 50s 660ms/step - loss: 2.6184 - mean_squared_error: 2.6184 - mean_absolute_error: 0.2792 - smape_loss: 0.0825 - val_loss: 0.2292 - val_mean_squared_error: 0.2292 - val_mean_absolute_error: 0.1336 - val_smape_loss: 0.0436\n",
      "Epoch 12/50\n",
      "76/76 [==============================] - 50s 659ms/step - loss: 2.6700 - mean_squared_error: 2.6700 - mean_absolute_error: 0.2752 - smape_loss: 0.0814 - val_loss: 0.2995 - val_mean_squared_error: 0.2995 - val_mean_absolute_error: 0.1569 - val_smape_loss: 0.0510\n",
      "Epoch 13/50\n",
      "76/76 [==============================] - 50s 660ms/step - loss: 2.4977 - mean_squared_error: 2.4977 - mean_absolute_error: 0.2766 - smape_loss: 0.0820 - val_loss: 0.2419 - val_mean_squared_error: 0.2419 - val_mean_absolute_error: 0.1465 - val_smape_loss: 0.0504\n",
      "Epoch 14/50\n",
      "76/76 [==============================] - 50s 661ms/step - loss: 2.5355 - mean_squared_error: 2.5355 - mean_absolute_error: 0.2639 - smape_loss: 0.0766 - val_loss: 0.2405 - val_mean_squared_error: 0.2405 - val_mean_absolute_error: 0.1168 - val_smape_loss: 0.0384\n",
      "Epoch 15/50\n",
      "76/76 [==============================] - 50s 661ms/step - loss: 2.6271 - mean_squared_error: 2.6271 - mean_absolute_error: 0.3038 - smape_loss: 0.0948 - val_loss: 0.2136 - val_mean_squared_error: 0.2136 - val_mean_absolute_error: 0.1261 - val_smape_loss: 0.0434\n",
      "Epoch 16/50\n",
      "76/76 [==============================] - 50s 659ms/step - loss: 2.4202 - mean_squared_error: 2.4202 - mean_absolute_error: 0.2742 - smape_loss: 0.0825 - val_loss: 0.2217 - val_mean_squared_error: 0.2217 - val_mean_absolute_error: 0.1273 - val_smape_loss: 0.0439\n",
      "Epoch 17/50\n",
      "76/76 [==============================] - 50s 660ms/step - loss: 2.4830 - mean_squared_error: 2.4830 - mean_absolute_error: 0.2715 - smape_loss: 0.0803 - val_loss: 0.2248 - val_mean_squared_error: 0.2248 - val_mean_absolute_error: 0.0993 - val_smape_loss: 0.0316\n",
      "Epoch 18/50\n",
      "76/76 [==============================] - 50s 660ms/step - loss: 2.6015 - mean_squared_error: 2.6015 - mean_absolute_error: 0.2782 - smape_loss: 0.0833 - val_loss: 0.3934 - val_mean_squared_error: 0.3934 - val_mean_absolute_error: 0.4447 - val_smape_loss: 0.1636\n",
      "Epoch 19/50\n",
      "76/76 [==============================] - 50s 660ms/step - loss: 2.2233 - mean_squared_error: 2.2233 - mean_absolute_error: 0.2824 - smape_loss: 0.0879 - val_loss: 0.2084 - val_mean_squared_error: 0.2084 - val_mean_absolute_error: 0.1127 - val_smape_loss: 0.0376\n",
      "Epoch 20/50\n",
      "76/76 [==============================] - 50s 658ms/step - loss: 2.0510 - mean_squared_error: 2.0510 - mean_absolute_error: 0.2525 - smape_loss: 0.0728 - val_loss: 0.2329 - val_mean_squared_error: 0.2329 - val_mean_absolute_error: 0.1392 - val_smape_loss: 0.0507\n",
      "Epoch 21/50\n",
      "76/76 [==============================] - 50s 660ms/step - loss: 2.2757 - mean_squared_error: 2.2757 - mean_absolute_error: 0.2619 - smape_loss: 0.0781 - val_loss: 0.2601 - val_mean_squared_error: 0.2601 - val_mean_absolute_error: 0.1408 - val_smape_loss: 0.0485\n",
      "Epoch 22/50\n",
      "76/76 [==============================] - 50s 659ms/step - loss: 2.2768 - mean_squared_error: 2.2768 - mean_absolute_error: 0.2764 - smape_loss: 0.0841 - val_loss: 0.2409 - val_mean_squared_error: 0.2409 - val_mean_absolute_error: 0.1537 - val_smape_loss: 0.0558\n",
      "Epoch 23/50\n",
      "76/76 [==============================] - 51s 667ms/step - loss: 2.0477 - mean_squared_error: 2.0477 - mean_absolute_error: 0.2529 - smape_loss: 0.0722 - val_loss: 0.2069 - val_mean_squared_error: 0.2069 - val_mean_absolute_error: 0.1054 - val_smape_loss: 0.0360\n",
      "Epoch 24/50\n",
      "76/76 [==============================] - 50s 659ms/step - loss: 2.2940 - mean_squared_error: 2.2940 - mean_absolute_error: 0.2607 - smape_loss: 0.0765 - val_loss: 0.2172 - val_mean_squared_error: 0.2172 - val_mean_absolute_error: 0.1078 - val_smape_loss: 0.0435\n",
      "Epoch 25/50\n",
      "76/76 [==============================] - 50s 660ms/step - loss: 1.9772 - mean_squared_error: 1.9772 - mean_absolute_error: 0.2480 - smape_loss: 0.0714 - val_loss: 0.2154 - val_mean_squared_error: 0.2154 - val_mean_absolute_error: 0.0922 - val_smape_loss: 0.0314\n",
      "Epoch 26/50\n",
      "76/76 [==============================] - 50s 660ms/step - loss: 2.0455 - mean_squared_error: 2.0455 - mean_absolute_error: 0.2479 - smape_loss: 0.0707 - val_loss: 0.2647 - val_mean_squared_error: 0.2647 - val_mean_absolute_error: 0.1258 - val_smape_loss: 0.0378\n",
      "Epoch 27/50\n",
      "76/76 [==============================] - 50s 658ms/step - loss: 2.0184 - mean_squared_error: 2.0184 - mean_absolute_error: 0.2566 - smape_loss: 0.0756 - val_loss: 0.2245 - val_mean_squared_error: 0.2245 - val_mean_absolute_error: 0.1155 - val_smape_loss: 0.0403\n",
      "Epoch 28/50\n",
      "76/76 [==============================] - 50s 658ms/step - loss: 2.0207 - mean_squared_error: 2.0207 - mean_absolute_error: 0.2485 - smape_loss: 0.0711 - val_loss: 0.2547 - val_mean_squared_error: 0.2547 - val_mean_absolute_error: 0.1225 - val_smape_loss: 0.0348\n",
      "Epoch 29/50\n",
      "76/76 [==============================] - 50s 661ms/step - loss: 1.9700 - mean_squared_error: 1.9700 - mean_absolute_error: 0.2441 - smape_loss: 0.0702 - val_loss: 0.2247 - val_mean_squared_error: 0.2247 - val_mean_absolute_error: 0.0979 - val_smape_loss: 0.0328\n",
      "Epoch 30/50\n",
      "76/76 [==============================] - 50s 658ms/step - loss: 1.9499 - mean_squared_error: 1.9499 - mean_absolute_error: 0.2425 - smape_loss: 0.0695 - val_loss: 0.2278 - val_mean_squared_error: 0.2278 - val_mean_absolute_error: 0.1165 - val_smape_loss: 0.0427\n",
      "Epoch 31/50\n",
      "76/76 [==============================] - 50s 660ms/step - loss: 1.9813 - mean_squared_error: 1.9813 - mean_absolute_error: 0.2521 - smape_loss: 0.0742 - val_loss: 0.2269 - val_mean_squared_error: 0.2269 - val_mean_absolute_error: 0.1113 - val_smape_loss: 0.0362\n",
      "Epoch 32/50\n",
      "76/76 [==============================] - 50s 661ms/step - loss: 2.0796 - mean_squared_error: 2.0796 - mean_absolute_error: 0.2451 - smape_loss: 0.0708 - val_loss: 0.2127 - val_mean_squared_error: 0.2127 - val_mean_absolute_error: 0.0915 - val_smape_loss: 0.0306\n",
      "Epoch 33/50\n",
      "76/76 [==============================] - 50s 659ms/step - loss: 1.8553 - mean_squared_error: 1.8553 - mean_absolute_error: 0.2401 - smape_loss: 0.0696 - val_loss: 0.2159 - val_mean_squared_error: 0.2159 - val_mean_absolute_error: 0.1251 - val_smape_loss: 0.0433\n"
     ]
    }
   ],
   "source": [
    "#fitting the model\n",
    "model1=model.fit(\n",
    "    train_X,\n",
    "    train_y,\n",
    "    validation_split=0.2,\n",
    "    epochs=50,\n",
    "    batch_size=1000,\n",
    "    callbacks=callbacks,\n",
    ")\n"
   ]
  },
  {
   "cell_type": "code",
   "execution_count": 94,
   "id": "9c07279e-9ca9-4ed0-8572-fd84dfa32939",
   "metadata": {},
   "outputs": [
    {
     "name": "stdout",
     "output_type": "stream",
     "text": [
      "882/882 [==============================] - 10s 11ms/step - loss: 9.6384 - mean_squared_error: 9.6384 - mean_absolute_error: 0.4202 - smape_loss: 0.1023\n"
     ]
    },
    {
     "data": {
      "text/plain": [
       "[9.6383695602417, 9.6383695602417, 0.4202004671096802, 0.10229996591806412]"
      ]
     },
     "execution_count": 94,
     "metadata": {},
     "output_type": "execute_result"
    }
   ],
   "source": [
    "model.evaluate(test_X, test_y, verbose=1)"
   ]
  },
  {
   "cell_type": "code",
   "execution_count": 95,
   "id": "05081cf2-96e2-46e6-9a4c-28003200149c",
   "metadata": {},
   "outputs": [
    {
     "data": {
      "image/png": "[encoded data removed]",
      "text/plain": [
       "<Figure size 640x480 with 1 Axes>"
      ]
     },
     "metadata": {},
     "output_type": "display_data"
    }
   ],
   "source": [
    "plt.plot(model1.history['loss'])\n",
    "plt.plot(model1.history['val_loss'])\n",
    "plt.title('model loss')\n",
    "plt.ylabel('loss')\n",
    "plt.xlabel('epoch')\n",
    "plt.legend(['train', 'val'], loc='upper left')\n",
    "plt.show()"
   ]
  },
  {
   "cell_type": "markdown",
   "id": "a9a0444e-efaf-4017-bcca-0284c7379ed2",
   "metadata": {},
   "source": [
    "## Hyperparameter Tuning"
   ]
  },
  {
   "cell_type": "code",
   "execution_count": 271,
   "id": "6d38c42c-1cb7-4798-9ba6-7a7d56a41895",
   "metadata": {},
   "outputs": [],
   "source": [
    "import talos as ta"
   ]
  },
  {
   "cell_type": "code",
   "execution_count": 292,
   "id": "cfb2b066-7627-4833-9bd3-f1894d9e43b9",
   "metadata": {},
   "outputs": [],
   "source": [
    "def transformer_model(x_train, y_train, x_val, y_val, params):\n",
    "    def build_model(\n",
    "        input_shape,\n",
    "        head_size,\n",
    "        num_heads,\n",
    "        ff_dim,\n",
    "        num_transformer_blocks,\n",
    "        mlp_units,\n",
    "        dropout=0,\n",
    "        mlp_dropout=0,\n",
    "    ):\n",
    "        inputs = keras.Input(shape=input_shape)\n",
    "        x = inputs\n",
    "        for _ in range(num_transformer_blocks):\n",
    "            x = transformer_encoder(x, head_size, num_heads, ff_dim, dropout)\n",
    "\n",
    "        x = layers.GlobalAveragePooling1D(data_format=\"channels_first\")(x)\n",
    "        for dim in mlp_units:\n",
    "            x = layers.Dense(dim, activation=\"relu\")(x)\n",
    "            x = layers.Dropout(mlp_dropout)(x)\n",
    "        outputs = layers.Dense(1)(x)\n",
    "        return keras.Model(inputs, outputs)\n",
    "\n",
    "    #input_shape = x_train.shape[1:]\n",
    "    \n",
    "    model = build_model(\n",
    "        #input_shape,\n",
    "        head_size=params['head_size'],\n",
    "        num_heads=params['num_heads'],\n",
    "        ff_dim=params['ff_dim'],\n",
    "        num_transformer_blocks=params['num_transformer_blocks'],\n",
    "        mlp_units=params['mlp_units'],\n",
    "        mlp_dropout=params['mlp_dropout'],\n",
    "        dropout=params['dropout'],\n",
    "    )\n",
    "\n",
    "    model.compile(\n",
    "        loss=\"mean_squared_error\",\n",
    "        optimizer=keras.optimizers.Adam(learning_rate=params['lr']),\n",
    "        metrics=[\"mean_squared_error\"],\n",
    "    )\n",
    "\n",
    "    callbacks = [keras.callbacks.EarlyStopping(patience=10, restore_best_weights=True)]\n",
    "    \n",
    "    history = model.fit(\n",
    "        x_train,\n",
    "        y_train,\n",
    "        validation_data=[x_val, y_val],\n",
    "        epochs=params['epoch'],\n",
    "        batch_size=params['batch_size'],\n",
    "        callbacks=callbacks)\n",
    "\n",
    "    # finally we have to make sure that history object and model are returned\n",
    "    return history, model\n"
   ]
  },
  {
   "cell_type": "code",
   "execution_count": 293,
   "id": "b6e445f1-6bad-41ed-a6f6-724caecd79f1",
   "metadata": {},
   "outputs": [],
   "source": [
    "\n",
    "# then we can go ahead and set the parameter space\n",
    "p = {'lr': (1e-4,0.5, 5),\n",
    "     'head_size':[32,64,128],\n",
    "     'num_heads':[2,4,8],\n",
    "     'ff_dim': [2,4],\n",
    "     'epochs': [50],\n",
    "     'dropout': [0.25, 0.5],\n",
    "     'num_transformer':[2,4,8],\n",
    "     'mlp_units': [16,32,64],\n",
    "     'mlp_dropout':[0.2, 0.4]}\n"
   ]
  },
  {
   "cell_type": "code",
   "execution_count": null,
   "id": "38fcfb8a-d6e5-48a9-8c86-4a251ce9a780",
   "metadata": {},
   "outputs": [],
   "source": [
    "t = ta.Scan(x=train_X,\n",
    "            y=train_y,\n",
    "            model=transformer_model, \n",
    "            params=p,\n",
    "            experiment_name='1')"
   ]
  },
  {
   "cell_type": "markdown",
   "id": "c512279f-fa94-491f-9592-e8fa6b3cef06",
   "metadata": {},
   "source": [
    "## Prediction for Kaggle"
   ]
  },
  {
   "cell_type": "code",
   "execution_count": 214,
   "id": "817aa2ba-6e1a-419a-841d-b4ef0332dcb6",
   "metadata": {},
   "outputs": [],
   "source": [
    "#Reading test file\n",
    "df_test=pd.read_csv(\"test.csv\")"
   ]
  },
  {
   "cell_type": "code",
   "execution_count": 216,
   "id": "6139b052-42b6-4009-847d-11e7562172f8",
   "metadata": {},
   "outputs": [],
   "source": [
    "#splitting row_id to get cfips\n",
    "df_test[['cfips', 'date']] = df_test.row_id.str.split(\"_\", expand = True)"
   ]
  },
  {
   "cell_type": "code",
   "execution_count": 217,
   "id": "92bca907-7170-462e-ae06-2244aaca1209",
   "metadata": {},
   "outputs": [],
   "source": [
    "df_test=df_test.drop(columns=['row_id', 'date'])"
   ]
  },
  {
   "cell_type": "code",
   "execution_count": 219,
   "id": "0320a372-9633-4679-8620-00efc5cc6a26",
   "metadata": {},
   "outputs": [],
   "source": [
    "#creating time index similarly as in the train data\n",
    "df_test[\"time_index\"] = df_test.groupby(\"cfips\").cumcount() + 39"
   ]
  },
  {
   "cell_type": "code",
   "execution_count": 222,
   "id": "06950ed0-e527-4164-8361-d1a8119632ad",
   "metadata": {},
   "outputs": [
    {
     "data": {
      "text/html": [
       "<div>\n",
       "<style scoped>\n",
       "    .dataframe tbody tr th:only-of-type {\n",
       "        vertical-align: middle;\n",
       "    }\n",
       "\n",
       "    .dataframe tbody tr th {\n",
       "        vertical-align: top;\n",
       "    }\n",
       "\n",
       "    .dataframe thead th {\n",
       "        text-align: right;\n",
       "    }\n",
       "</style>\n",
       "<table border=\"1\" class=\"dataframe\">\n",
       "  <thead>\n",
       "    <tr style=\"text-align: right;\">\n",
       "      <th></th>\n",
       "      <th>cfips</th>\n",
       "      <th>first_day_of_month</th>\n",
       "      <th>time_index</th>\n",
       "    </tr>\n",
       "  </thead>\n",
       "  <tbody>\n",
       "    <tr>\n",
       "      <th>0</th>\n",
       "      <td>1001</td>\n",
       "      <td>2022-11-01</td>\n",
       "      <td>39</td>\n",
       "    </tr>\n",
       "    <tr>\n",
       "      <th>1</th>\n",
       "      <td>1003</td>\n",
       "      <td>2022-11-01</td>\n",
       "      <td>39</td>\n",
       "    </tr>\n",
       "    <tr>\n",
       "      <th>2</th>\n",
       "      <td>1005</td>\n",
       "      <td>2022-11-01</td>\n",
       "      <td>39</td>\n",
       "    </tr>\n",
       "    <tr>\n",
       "      <th>3</th>\n",
       "      <td>1007</td>\n",
       "      <td>2022-11-01</td>\n",
       "      <td>39</td>\n",
       "    </tr>\n",
       "    <tr>\n",
       "      <th>4</th>\n",
       "      <td>1009</td>\n",
       "      <td>2022-11-01</td>\n",
       "      <td>39</td>\n",
       "    </tr>\n",
       "  </tbody>\n",
       "</table>\n",
       "</div>"
      ],
      "text/plain": [
       "  cfips first_day_of_month  time_index\n",
       "0  1001         2022-11-01          39\n",
       "1  1003         2022-11-01          39\n",
       "2  1005         2022-11-01          39\n",
       "3  1007         2022-11-01          39\n",
       "4  1009         2022-11-01          39"
      ]
     },
     "execution_count": 222,
     "metadata": {},
     "output_type": "execute_result"
    }
   ],
   "source": [
    "df_test.head()"
   ]
  },
  {
   "cell_type": "code",
   "execution_count": 223,
   "id": "f690faff-e3a0-46f4-9656-2ab59f246257",
   "metadata": {},
   "outputs": [],
   "source": [
    "df_test=df_test.drop(columns=['first_day_of_month','cfips'])"
   ]
  },
  {
   "cell_type": "code",
   "execution_count": 224,
   "id": "998b87e1-9a85-4448-81f8-3b212d8d6df5",
   "metadata": {},
   "outputs": [],
   "source": [
    "#making dataframe into numpy array\n",
    "df_test=df_test.to_numpy().reshape((df_test.shape[0], df_test.shape[1], 1))"
   ]
  },
  {
   "cell_type": "code",
   "execution_count": 225,
   "id": "49ae5f9a-2b57-4a77-8008-816608619a82",
   "metadata": {},
   "outputs": [
    {
     "data": {
      "text/plain": [
       "(25080, 1, 1)"
      ]
     },
     "execution_count": 225,
     "metadata": {},
     "output_type": "execute_result"
    }
   ],
   "source": [
    "df_test.shape"
   ]
  },
  {
   "cell_type": "code",
   "execution_count": 226,
   "id": "7765cd5e-3927-4c50-b163-2c9261d8c82b",
   "metadata": {},
   "outputs": [],
   "source": [
    "df_test=np.asarray(df_test).astype('float32')"
   ]
  },
  {
   "cell_type": "code",
   "execution_count": null,
   "id": "73caf922-5993-4bf9-baa8-3bb396f8105b",
   "metadata": {},
   "outputs": [],
   "source": [
    "predicted=model.predict(df_test, verbose=1)"
   ]
  },
  {
   "cell_type": "code",
   "execution_count": 210,
   "id": "c46e4a1f-d082-43eb-8190-f09066dff705",
   "metadata": {},
   "outputs": [
    {
     "data": {
      "text/plain": [
       "array([[ 40.320683],\n",
       "       [ 40.334045],\n",
       "       [ 40.3474  ],\n",
       "       ...,\n",
       "       [368.5956  ],\n",
       "       [368.60748 ],\n",
       "       [368.61935 ]], dtype=float32)"
      ]
     },
     "execution_count": 210,
     "metadata": {},
     "output_type": "execute_result"
    }
   ],
   "source": [
    "predicted"
   ]
  },
  {
   "cell_type": "code",
   "execution_count": null,
   "id": "1813a557-fc98-4c22-9308-2e8774a2a6ae",
   "metadata": {},
   "outputs": [],
   "source": []
  }
 ],
 "metadata": {
  "kernelspec": {
   "display_name": "Python 3 (ipykernel)",
   "language": "python",
   "name": "python3"
  },
  "language_info": {
   "codemirror_mode": {
    "name": "ipython",
    "version": 3
   },
   "file_extension": ".py",
   "mimetype": "text/x-python",
   "name": "python",
   "nbconvert_exporter": "python",
   "pygments_lexer": "ipython3",
   "version": "3.9.12"
  }
 },
 "nbformat": 4,
 "nbformat_minor": 5
}
